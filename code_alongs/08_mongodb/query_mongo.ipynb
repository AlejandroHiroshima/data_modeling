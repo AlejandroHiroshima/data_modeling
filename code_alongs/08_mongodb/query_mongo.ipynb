{
 "cells": [
  {
   "cell_type": "markdown",
   "metadata": {},
   "source": [
    "# Query MongoDB"
   ]
  },
  {
   "cell_type": "code",
   "execution_count": 2,
   "metadata": {},
   "outputs": [
    {
     "data": {
      "text/plain": [
       "Collection(Database(MongoClient(host=['localhost:27017'], document_class=dict, tz_aware=False, connect=True, authsource='admin'), 'linkedin'), 'profile')"
      ]
     },
     "execution_count": 2,
     "metadata": {},
     "output_type": "execute_result"
    }
   ],
   "source": [
    "from connect_mongo import get_collection\n",
    "\n",
    "profiles = get_collection(\"linkedin\", \"profile\")\n",
    "\n",
    "profiles"
   ]
  },
  {
   "cell_type": "code",
   "execution_count": 7,
   "metadata": {},
   "outputs": [
    {
     "data": {
      "text/plain": [
       "{'_id': ObjectId('67e12d47c8c1ab996fbecf91'),\n",
       " 'user_id': 42145,\n",
       " 'first_name': 'Kokchun',\n",
       " 'last_name': 'Giang',\n",
       " 'about': 'Data engineer, scientist, and educator passionate about turning messy data into valuable insights. Loves open-source projects and community contributions.',\n",
       " 'photo_url': 'https://media.licdn.com/digitalprofile/kokchun',\n",
       " 'experience': [{'title': 'Founder & Lead Consultant',\n",
       "   'organization': 'AIgineer',\n",
       "   'start_date': '2024-01',\n",
       "   'end_date': 'present',\n",
       "   'description': 'Advising businesses on integrating AI solutions and developing custom data engineering pipelines.'},\n",
       "  {'title': 'Lecturer in AI and Machine Learning',\n",
       "   'organization': 'IT-HÃ¶gskolan',\n",
       "   'start_date': '2021-01',\n",
       "   'end_date': '2023-12',\n",
       "   'description': 'Taught courses on AI, machine learning, and data analytics to undergraduate and graduate students.'}]}"
      ]
     },
     "execution_count": 7,
     "metadata": {},
     "output_type": "execute_result"
    }
   ],
   "source": [
    "profiles.find_one() # Hittar den första"
   ]
  },
  {
   "cell_type": "code",
   "execution_count": null,
   "metadata": {},
   "outputs": [
    {
     "data": {
      "text/plain": [
       "{'_id': ObjectId('67e12d47c8c1ab996fbecf93'),\n",
       " 'user_id': 42147,\n",
       " 'first_name': 'Alice',\n",
       " 'last_name': 'Smith',\n",
       " 'about': 'AI enthusiast with a strong background in operations and a drive to integrate smart systems into everyday business.',\n",
       " 'photo_url': 'https://example.com/photos/alicesmith',\n",
       " 'experience': [{'title': 'Operations Analyst',\n",
       "   'organization': 'SmartOps LLC',\n",
       "   'start_date': '2020-03',\n",
       "   'end_date': 'present',\n",
       "   'description': 'Utilizes data analytics and AI to optimize operational workflows and reduce inefficiencies.'},\n",
       "  {'title': 'Research Assistant in Machine Learning',\n",
       "   'organization': 'Tech University Lab',\n",
       "   'start_date': '2019-01',\n",
       "   'end_date': '2020-02',\n",
       "   'description': 'Supported research projects on predictive modeling and anomaly detection.'}],\n",
       " 'education': [{'degree': 'B.Sc. in Industrial Engineering',\n",
       "   'institution': 'Tech University',\n",
       "   'start_date': '2015-09',\n",
       "   'end_date': '2019-06',\n",
       "   'description': 'Studied process optimization, statistics, and the integration of technology in manufacturing.'},\n",
       "  {'degree': 'Certification in Machine Learning',\n",
       "   'institution': 'Online Bootcamp',\n",
       "   'start_date': '2020-07',\n",
       "   'end_date': '2020-12',\n",
       "   'description': 'Intensive course covering the basics of machine learning, Python programming, and model deployment.'}]}"
      ]
     },
     "execution_count": 8,
     "metadata": {},
     "output_type": "execute_result"
    }
   ],
   "source": [
    "profiles.find_one({\"first_name\": \"Alice\"}) #dict som argument: key = key, value = den man vill ta fram"
   ]
  },
  {
   "cell_type": "code",
   "execution_count": null,
   "metadata": {},
   "outputs": [
    {
     "data": {
      "text/plain": [
       "{'title': 'Operations Analyst',\n",
       " 'organization': 'SmartOps LLC',\n",
       " 'start_date': '2020-03',\n",
       " 'end_date': 'present',\n",
       " 'description': 'Utilizes data analytics and AI to optimize operational workflows and reduce inefficiencies.'}"
      ]
     },
     "execution_count": 11,
     "metadata": {},
     "output_type": "execute_result"
    }
   ],
   "source": [
    "profiles.find_one({\"first_name\": \"Alice\"})['experience'][0] # hur man filtrerar ytterligare"
   ]
  },
  {
   "cell_type": "code",
   "execution_count": 14,
   "metadata": {},
   "outputs": [
    {
     "data": {
      "text/plain": [
       "2"
      ]
     },
     "execution_count": 14,
     "metadata": {},
     "output_type": "execute_result"
    }
   ],
   "source": [
    "profiles = [profile for profile in profiles.find({\"first_name\": \"Maria\"})] # listcomprehension för att loopa igenom alla Maria\n",
    "len(profiles)"
   ]
  },
  {
   "cell_type": "code",
   "execution_count": 15,
   "metadata": {},
   "outputs": [
    {
     "data": {
      "text/plain": [
       "('Maria', 'Junior Software Engineer')"
      ]
     },
     "execution_count": 15,
     "metadata": {},
     "output_type": "execute_result"
    }
   ],
   "source": [
    "profiles[0].get(\"first_name\"), profiles[0].get(\"experience\")[0].get(\"title\")"
   ]
  },
  {
   "cell_type": "code",
   "execution_count": 16,
   "metadata": {},
   "outputs": [
    {
     "data": {
      "text/plain": [
       "('Maria', 'MLOps Trainee')"
      ]
     },
     "execution_count": 16,
     "metadata": {},
     "output_type": "execute_result"
    }
   ],
   "source": [
    "profiles[0].get(\"first_name\"), profiles[1].get(\"experience\")[1].get(\"title\")"
   ]
  }
 ],
 "metadata": {
  "kernelspec": {
   "display_name": ".venv",
   "language": "python",
   "name": "python3"
  },
  "language_info": {
   "codemirror_mode": {
    "name": "ipython",
    "version": 3
   },
   "file_extension": ".py",
   "mimetype": "text/x-python",
   "name": "python",
   "nbconvert_exporter": "python",
   "pygments_lexer": "ipython3",
   "version": "3.12.5"
  }
 },
 "nbformat": 4,
 "nbformat_minor": 2
}
